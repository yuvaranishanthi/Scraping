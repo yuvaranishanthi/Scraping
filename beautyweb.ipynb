{
  "nbformat": 4,
  "nbformat_minor": 0,
  "metadata": {
    "colab": {
      "provenance": []
    },
    "kernelspec": {
      "name": "python3",
      "display_name": "Python 3"
    },
    "language_info": {
      "name": "python"
    }
  },
  "cells": [
    {
      "cell_type": "code",
      "execution_count": null,
      "metadata": {
        "colab": {
          "base_uri": "https://localhost:8080/"
        },
        "id": "isXv5kNDSWBw",
        "outputId": "add60d7f-6f18-4912-92bc-8c3b08ebc7a9"
      },
      "outputs": [
        {
          "output_type": "stream",
          "name": "stdout",
          "text": [
            "Requirement already satisfied: beautifulsoup4 in /usr/local/lib/python3.11/dist-packages (4.13.3)\n",
            "Requirement already satisfied: soupsieve>1.2 in /usr/local/lib/python3.11/dist-packages (from beautifulsoup4) (2.6)\n",
            "Requirement already satisfied: typing-extensions>=4.0.0 in /usr/local/lib/python3.11/dist-packages (from beautifulsoup4) (4.13.1)\n",
            "Requirement already satisfied: requests in /usr/local/lib/python3.11/dist-packages (2.32.3)\n",
            "Requirement already satisfied: charset-normalizer<4,>=2 in /usr/local/lib/python3.11/dist-packages (from requests) (3.4.1)\n",
            "Requirement already satisfied: idna<4,>=2.5 in /usr/local/lib/python3.11/dist-packages (from requests) (3.10)\n",
            "Requirement already satisfied: urllib3<3,>=1.21.1 in /usr/local/lib/python3.11/dist-packages (from requests) (2.3.0)\n",
            "Requirement already satisfied: certifi>=2017.4.17 in /usr/local/lib/python3.11/dist-packages (from requests) (2025.1.31)\n"
          ]
        }
      ],
      "source": [
        "!pip install beautifulsoup4\n",
        "!pip install requests"
      ]
    },
    {
      "cell_type": "code",
      "source": [
        "import requests\n",
        "from bs4 import BeautifulSoup\n",
        "\n",
        "url = 'https://quotes.toscrape.com/'\n",
        "response = requests.get(url)\n",
        "if response.status_code == 200:\n",
        "\n",
        "    soup = BeautifulSoup(response.text, 'html.parser')\n",
        "    quotes = soup.find_all('div', class_='quote')\n",
        "\n",
        "    for quote in quotes:\n",
        "        text = quote.find('span', class_='text').text\n",
        "        author = quote.find('small', class_='author').text\n",
        "        print(f\"Quote: {text}\\nAuthor: {author}\\n\")\n",
        "else:\n",
        "    print(\"Failed to retrieve the webpage. Status code:\", response.status_code)\n",
        "\n"
      ],
      "metadata": {
        "colab": {
          "base_uri": "https://localhost:8080/"
        },
        "id": "FIHujDGqSXMF",
        "outputId": "4f5af178-f3c4-48f3-cde0-9482cb83365a"
      },
      "execution_count": null,
      "outputs": [
        {
          "output_type": "stream",
          "name": "stdout",
          "text": [
            "Quote: “The world as we have created it is a process of our thinking. It cannot be changed without changing our thinking.”\n",
            "Author: Albert Einstein\n",
            "\n",
            "Quote: “It is our choices, Harry, that show what we truly are, far more than our abilities.”\n",
            "Author: J.K. Rowling\n",
            "\n",
            "Quote: “There are only two ways to live your life. One is as though nothing is a miracle. The other is as though everything is a miracle.”\n",
            "Author: Albert Einstein\n",
            "\n",
            "Quote: “The person, be it gentleman or lady, who has not pleasure in a good novel, must be intolerably stupid.”\n",
            "Author: Jane Austen\n",
            "\n",
            "Quote: “Imperfection is beauty, madness is genius and it's better to be absolutely ridiculous than absolutely boring.”\n",
            "Author: Marilyn Monroe\n",
            "\n",
            "Quote: “Try not to become a man of success. Rather become a man of value.”\n",
            "Author: Albert Einstein\n",
            "\n",
            "Quote: “It is better to be hated for what you are than to be loved for what you are not.”\n",
            "Author: André Gide\n",
            "\n",
            "Quote: “I have not failed. I've just found 10,000 ways that won't work.”\n",
            "Author: Thomas A. Edison\n",
            "\n",
            "Quote: “A woman is like a tea bag; you never know how strong it is until it's in hot water.”\n",
            "Author: Eleanor Roosevelt\n",
            "\n",
            "Quote: “A day without sunshine is like, you know, night.”\n",
            "Author: Steve Martin\n",
            "\n"
          ]
        }
      ]
    },
    {
      "cell_type": "code",
      "source": [
        "paragraphs = soup.find_all('p')\n",
        "for para in paragraphs:\n",
        "    print(para.text.strip())\n"
      ],
      "metadata": {
        "colab": {
          "base_uri": "https://localhost:8080/"
        },
        "id": "4zNXH-ETSdyH",
        "outputId": "a06585e1-625c-4bee-9452-be760ca62b0d"
      },
      "execution_count": null,
      "outputs": [
        {
          "output_type": "stream",
          "name": "stdout",
          "text": [
            "Login\n",
            "Quotes by: GoodReads.com\n",
            "Made with ❤ by Zyte\n"
          ]
        }
      ]
    },
    {
      "cell_type": "code",
      "source": [
        "links = soup.find_all('a', href=True)\n",
        "for link in links:\n",
        "    print(link['href'])\n"
      ],
      "metadata": {
        "colab": {
          "base_uri": "https://localhost:8080/"
        },
        "id": "Sz0A30SRSp1s",
        "outputId": "6443ef93-8b3b-4b2b-ad93-0284b6e1095f"
      },
      "execution_count": null,
      "outputs": [
        {
          "output_type": "stream",
          "name": "stdout",
          "text": [
            "/\n",
            "/login\n",
            "/author/Albert-Einstein\n",
            "/tag/change/page/1/\n",
            "/tag/deep-thoughts/page/1/\n",
            "/tag/thinking/page/1/\n",
            "/tag/world/page/1/\n",
            "/author/J-K-Rowling\n",
            "/tag/abilities/page/1/\n",
            "/tag/choices/page/1/\n",
            "/author/Albert-Einstein\n",
            "/tag/inspirational/page/1/\n",
            "/tag/life/page/1/\n",
            "/tag/live/page/1/\n",
            "/tag/miracle/page/1/\n",
            "/tag/miracles/page/1/\n",
            "/author/Jane-Austen\n",
            "/tag/aliteracy/page/1/\n",
            "/tag/books/page/1/\n",
            "/tag/classic/page/1/\n",
            "/tag/humor/page/1/\n",
            "/author/Marilyn-Monroe\n",
            "/tag/be-yourself/page/1/\n",
            "/tag/inspirational/page/1/\n",
            "/author/Albert-Einstein\n",
            "/tag/adulthood/page/1/\n",
            "/tag/success/page/1/\n",
            "/tag/value/page/1/\n",
            "/author/Andre-Gide\n",
            "/tag/life/page/1/\n",
            "/tag/love/page/1/\n",
            "/author/Thomas-A-Edison\n",
            "/tag/edison/page/1/\n",
            "/tag/failure/page/1/\n",
            "/tag/inspirational/page/1/\n",
            "/tag/paraphrased/page/1/\n",
            "/author/Eleanor-Roosevelt\n",
            "/tag/misattributed-eleanor-roosevelt/page/1/\n",
            "/author/Steve-Martin\n",
            "/tag/humor/page/1/\n",
            "/tag/obvious/page/1/\n",
            "/tag/simile/page/1/\n",
            "/page/2/\n",
            "/tag/love/\n",
            "/tag/inspirational/\n",
            "/tag/life/\n",
            "/tag/humor/\n",
            "/tag/books/\n",
            "/tag/reading/\n",
            "/tag/friendship/\n",
            "/tag/friends/\n",
            "/tag/truth/\n",
            "/tag/simile/\n",
            "https://www.goodreads.com/quotes\n",
            "https://www.zyte.com\n"
          ]
        }
      ]
    },
    {
      "cell_type": "code",
      "source": [],
      "metadata": {
        "id": "BOz2JQzeS2KP"
      },
      "execution_count": null,
      "outputs": []
    }
  ]
}